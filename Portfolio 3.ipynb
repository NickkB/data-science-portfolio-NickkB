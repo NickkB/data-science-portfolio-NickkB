{
 "cells": [
  {
   "cell_type": "markdown",
   "metadata": {},
   "source": [
    "# Mobile Customer Churn\n",
    "\n",
    "In this Portfolio task you will work with some (fake but realistic) data on Mobile Customer Churn.  Churn is where\n",
    "a customer leaves the mobile provider.   The goal is to build a simple predictive model to predict churn from available features. \n",
    "\n",
    "The data was generated (by Hume Winzar at Macquarie) based on a real dataset provided by Optus.  The data is simulated but the column headings are the same. (Note that I'm not sure if all of the real relationships in this data are preserved so you need to be cautious in interpreting the results of your analysis here).  \n",
    "\n",
    "The data is provided in file `MobileCustomerChurn.csv` and column headings are defined in a file `MobileChurnDataDictionary.csv` (store these in the `files` folder in your project).\n",
    "\n",
    "Your high level goal in this notebook is to try to build and evaluate a __predictive model for churn__ - predict the value of the CHURN_IND field in the data from some of the other fields.  Note that the three `RECON` fields should not be used as they indicate whether the customer reconnected after having churned. \n",
    "\n",
    "__Note:__ you are not being evaluated on the _accuracy_ of the model but on the _process_ that you use to generate it.  You can use a simple model such as Logistic Regression for this task or try one of the more advanced methods covered in recent weeks.  Explore the data, build a model using a selection of features and then do some work on finding out which features provide the most accurate results.  "
   ]
  },
  {
   "cell_type": "code",
   "execution_count": 1,
   "metadata": {},
   "outputs": [],
   "source": [
    "import pandas as pd\n",
    "import numpy as np\n",
    "import matplotlib.pyplot as plt\n",
    "import seaborn as sns\n",
    "from sklearn.preprocessing import MinMaxScaler\n",
    "from sklearn.model_selection import train_test_split\n",
    "from sklearn.linear_model import LogisticRegression\n",
    "from sklearn.metrics import confusion_matrix, accuracy_score\n",
    "from sklearn.feature_selection import RFE\n",
    "%matplotlib inline"
   ]
  },
  {
   "cell_type": "code",
   "execution_count": 2,
   "metadata": {},
   "outputs": [
    {
     "data": {
      "text/html": [
       "<div>\n",
       "<style scoped>\n",
       "    .dataframe tbody tr th:only-of-type {\n",
       "        vertical-align: middle;\n",
       "    }\n",
       "\n",
       "    .dataframe tbody tr th {\n",
       "        vertical-align: top;\n",
       "    }\n",
       "\n",
       "    .dataframe thead th {\n",
       "        text-align: right;\n",
       "    }\n",
       "</style>\n",
       "<table border=\"1\" class=\"dataframe\">\n",
       "  <thead>\n",
       "    <tr style=\"text-align: right;\">\n",
       "      <th></th>\n",
       "      <th>CUST_ID</th>\n",
       "      <th>ACCOUNT_TENURE</th>\n",
       "      <th>ACCT_CNT_SERVICES</th>\n",
       "      <th>AGE</th>\n",
       "      <th>CFU</th>\n",
       "      <th>SERVICE_TENURE</th>\n",
       "      <th>PLAN_ACCESS_FEE</th>\n",
       "      <th>BYO_PLAN_STATUS</th>\n",
       "      <th>PLAN_TENURE</th>\n",
       "      <th>MONTHS_OF_CONTRACT_REMAINING</th>\n",
       "      <th>...</th>\n",
       "      <th>CONTRACT_STATUS</th>\n",
       "      <th>PREV_CONTRACT_DURATION</th>\n",
       "      <th>HANDSET_USED_BRAND</th>\n",
       "      <th>CHURN_IND</th>\n",
       "      <th>MONTHLY_SPEND</th>\n",
       "      <th>COUNTRY_METRO_REGION</th>\n",
       "      <th>STATE</th>\n",
       "      <th>RECON_SMS_NEXT_MTH</th>\n",
       "      <th>RECON_TELE_NEXT_MTH</th>\n",
       "      <th>RECON_EMAIL_NEXT_MTH</th>\n",
       "    </tr>\n",
       "    <tr>\n",
       "      <th>INDEX</th>\n",
       "      <th></th>\n",
       "      <th></th>\n",
       "      <th></th>\n",
       "      <th></th>\n",
       "      <th></th>\n",
       "      <th></th>\n",
       "      <th></th>\n",
       "      <th></th>\n",
       "      <th></th>\n",
       "      <th></th>\n",
       "      <th></th>\n",
       "      <th></th>\n",
       "      <th></th>\n",
       "      <th></th>\n",
       "      <th></th>\n",
       "      <th></th>\n",
       "      <th></th>\n",
       "      <th></th>\n",
       "      <th></th>\n",
       "      <th></th>\n",
       "      <th></th>\n",
       "    </tr>\n",
       "  </thead>\n",
       "  <tbody>\n",
       "    <tr>\n",
       "      <th>1</th>\n",
       "      <td>1</td>\n",
       "      <td>46</td>\n",
       "      <td>1</td>\n",
       "      <td>30.0</td>\n",
       "      <td>CONSUMER</td>\n",
       "      <td>46</td>\n",
       "      <td>54.54</td>\n",
       "      <td>NON BYO</td>\n",
       "      <td>15</td>\n",
       "      <td>0</td>\n",
       "      <td>...</td>\n",
       "      <td>OFF-CONTRACT</td>\n",
       "      <td>24</td>\n",
       "      <td>SAMSUNG</td>\n",
       "      <td>1</td>\n",
       "      <td>61.40</td>\n",
       "      <td>COUNTRY</td>\n",
       "      <td>WA</td>\n",
       "      <td>NaN</td>\n",
       "      <td>NaN</td>\n",
       "      <td>NaN</td>\n",
       "    </tr>\n",
       "    <tr>\n",
       "      <th>2</th>\n",
       "      <td>2</td>\n",
       "      <td>60</td>\n",
       "      <td>3</td>\n",
       "      <td>55.0</td>\n",
       "      <td>CONSUMER</td>\n",
       "      <td>59</td>\n",
       "      <td>54.54</td>\n",
       "      <td>NON BYO</td>\n",
       "      <td>5</td>\n",
       "      <td>0</td>\n",
       "      <td>...</td>\n",
       "      <td>OFF-CONTRACT</td>\n",
       "      <td>24</td>\n",
       "      <td>APPLE</td>\n",
       "      <td>1</td>\n",
       "      <td>54.54</td>\n",
       "      <td>METRO</td>\n",
       "      <td>NSW</td>\n",
       "      <td>NaN</td>\n",
       "      <td>NaN</td>\n",
       "      <td>NaN</td>\n",
       "    </tr>\n",
       "    <tr>\n",
       "      <th>3</th>\n",
       "      <td>5</td>\n",
       "      <td>65</td>\n",
       "      <td>1</td>\n",
       "      <td>29.0</td>\n",
       "      <td>CONSUMER</td>\n",
       "      <td>65</td>\n",
       "      <td>40.90</td>\n",
       "      <td>BYO</td>\n",
       "      <td>15</td>\n",
       "      <td>0</td>\n",
       "      <td>...</td>\n",
       "      <td>OFF-CONTRACT</td>\n",
       "      <td>12</td>\n",
       "      <td>APPLE</td>\n",
       "      <td>1</td>\n",
       "      <td>2.50</td>\n",
       "      <td>COUNTRY</td>\n",
       "      <td>WA</td>\n",
       "      <td>NaN</td>\n",
       "      <td>NaN</td>\n",
       "      <td>NaN</td>\n",
       "    </tr>\n",
       "    <tr>\n",
       "      <th>4</th>\n",
       "      <td>6</td>\n",
       "      <td>31</td>\n",
       "      <td>1</td>\n",
       "      <td>51.0</td>\n",
       "      <td>CONSUMER</td>\n",
       "      <td>31</td>\n",
       "      <td>31.81</td>\n",
       "      <td>NON BYO</td>\n",
       "      <td>31</td>\n",
       "      <td>0</td>\n",
       "      <td>...</td>\n",
       "      <td>OFF-CONTRACT</td>\n",
       "      <td>24</td>\n",
       "      <td>APPLE</td>\n",
       "      <td>1</td>\n",
       "      <td>6.48</td>\n",
       "      <td>COUNTRY</td>\n",
       "      <td>VIC</td>\n",
       "      <td>NaN</td>\n",
       "      <td>NaN</td>\n",
       "      <td>NaN</td>\n",
       "    </tr>\n",
       "    <tr>\n",
       "      <th>5</th>\n",
       "      <td>8</td>\n",
       "      <td>95</td>\n",
       "      <td>1</td>\n",
       "      <td>31.0</td>\n",
       "      <td>CONSUMER</td>\n",
       "      <td>95</td>\n",
       "      <td>54.54</td>\n",
       "      <td>NON BYO</td>\n",
       "      <td>0</td>\n",
       "      <td>0</td>\n",
       "      <td>...</td>\n",
       "      <td>OFF-CONTRACT</td>\n",
       "      <td>24</td>\n",
       "      <td>APPLE</td>\n",
       "      <td>1</td>\n",
       "      <td>100.22</td>\n",
       "      <td>METRO</td>\n",
       "      <td>NSW</td>\n",
       "      <td>NaN</td>\n",
       "      <td>NaN</td>\n",
       "      <td>NaN</td>\n",
       "    </tr>\n",
       "  </tbody>\n",
       "</table>\n",
       "<p>5 rows × 21 columns</p>\n",
       "</div>"
      ],
      "text/plain": [
       "       CUST_ID  ACCOUNT_TENURE  ACCT_CNT_SERVICES   AGE       CFU  \\\n",
       "INDEX                                                               \n",
       "1            1              46                  1  30.0  CONSUMER   \n",
       "2            2              60                  3  55.0  CONSUMER   \n",
       "3            5              65                  1  29.0  CONSUMER   \n",
       "4            6              31                  1  51.0  CONSUMER   \n",
       "5            8              95                  1  31.0  CONSUMER   \n",
       "\n",
       "       SERVICE_TENURE  PLAN_ACCESS_FEE BYO_PLAN_STATUS  PLAN_TENURE  \\\n",
       "INDEX                                                                 \n",
       "1                  46            54.54         NON BYO           15   \n",
       "2                  59            54.54         NON BYO            5   \n",
       "3                  65            40.90             BYO           15   \n",
       "4                  31            31.81         NON BYO           31   \n",
       "5                  95            54.54         NON BYO            0   \n",
       "\n",
       "       MONTHS_OF_CONTRACT_REMAINING  ...  CONTRACT_STATUS  \\\n",
       "INDEX                                ...                    \n",
       "1                                 0  ...     OFF-CONTRACT   \n",
       "2                                 0  ...     OFF-CONTRACT   \n",
       "3                                 0  ...     OFF-CONTRACT   \n",
       "4                                 0  ...     OFF-CONTRACT   \n",
       "5                                 0  ...     OFF-CONTRACT   \n",
       "\n",
       "      PREV_CONTRACT_DURATION  HANDSET_USED_BRAND CHURN_IND  MONTHLY_SPEND  \\\n",
       "INDEX                                                                       \n",
       "1                         24             SAMSUNG         1          61.40   \n",
       "2                         24               APPLE         1          54.54   \n",
       "3                         12               APPLE         1           2.50   \n",
       "4                         24               APPLE         1           6.48   \n",
       "5                         24               APPLE         1         100.22   \n",
       "\n",
       "       COUNTRY_METRO_REGION STATE RECON_SMS_NEXT_MTH  RECON_TELE_NEXT_MTH  \\\n",
       "INDEX                                                                       \n",
       "1                   COUNTRY    WA                NaN                  NaN   \n",
       "2                     METRO   NSW                NaN                  NaN   \n",
       "3                   COUNTRY    WA                NaN                  NaN   \n",
       "4                   COUNTRY   VIC                NaN                  NaN   \n",
       "5                     METRO   NSW                NaN                  NaN   \n",
       "\n",
       "       RECON_EMAIL_NEXT_MTH  \n",
       "INDEX                        \n",
       "1                       NaN  \n",
       "2                       NaN  \n",
       "3                       NaN  \n",
       "4                       NaN  \n",
       "5                       NaN  \n",
       "\n",
       "[5 rows x 21 columns]"
      ]
     },
     "execution_count": 2,
     "metadata": {},
     "output_type": "execute_result"
    }
   ],
   "source": [
    "churn = pd.read_csv(\"files/MobileCustomerChurn.csv\", na_values=[\"NA\", \"#VALUE!\"], index_col='INDEX')\n",
    "churn.head()"
   ]
  },
  {
   "cell_type": "code",
   "execution_count": 3,
   "metadata": {
    "scrolled": true
   },
   "outputs": [
    {
     "data": {
      "text/html": [
       "<div>\n",
       "<style scoped>\n",
       "    .dataframe tbody tr th:only-of-type {\n",
       "        vertical-align: middle;\n",
       "    }\n",
       "\n",
       "    .dataframe tbody tr th {\n",
       "        vertical-align: top;\n",
       "    }\n",
       "\n",
       "    .dataframe thead th {\n",
       "        text-align: right;\n",
       "    }\n",
       "</style>\n",
       "<table border=\"1\" class=\"dataframe\">\n",
       "  <thead>\n",
       "    <tr style=\"text-align: right;\">\n",
       "      <th></th>\n",
       "      <th>CUST_ID</th>\n",
       "      <th>ACCOUNT_TENURE</th>\n",
       "      <th>ACCT_CNT_SERVICES</th>\n",
       "      <th>AGE</th>\n",
       "      <th>SERVICE_TENURE</th>\n",
       "      <th>PLAN_ACCESS_FEE</th>\n",
       "      <th>PLAN_TENURE</th>\n",
       "      <th>MONTHS_OF_CONTRACT_REMAINING</th>\n",
       "      <th>LAST_FX_CONTRACT_DURATION</th>\n",
       "      <th>PREV_CONTRACT_DURATION</th>\n",
       "      <th>CHURN_IND</th>\n",
       "      <th>MONTHLY_SPEND</th>\n",
       "      <th>RECON_SMS_NEXT_MTH</th>\n",
       "      <th>RECON_TELE_NEXT_MTH</th>\n",
       "      <th>RECON_EMAIL_NEXT_MTH</th>\n",
       "    </tr>\n",
       "  </thead>\n",
       "  <tbody>\n",
       "    <tr>\n",
       "      <th>count</th>\n",
       "      <td>46206.000000</td>\n",
       "      <td>46206.000000</td>\n",
       "      <td>46206.000000</td>\n",
       "      <td>46130.000000</td>\n",
       "      <td>46206.000000</td>\n",
       "      <td>46206.000000</td>\n",
       "      <td>46206.000000</td>\n",
       "      <td>46206.000000</td>\n",
       "      <td>46206.000000</td>\n",
       "      <td>46206.000000</td>\n",
       "      <td>46206.000000</td>\n",
       "      <td>46206.000000</td>\n",
       "      <td>28416.000000</td>\n",
       "      <td>28416.000000</td>\n",
       "      <td>28416.000000</td>\n",
       "    </tr>\n",
       "    <tr>\n",
       "      <th>mean</th>\n",
       "      <td>42335.196879</td>\n",
       "      <td>45.874627</td>\n",
       "      <td>1.555707</td>\n",
       "      <td>41.411836</td>\n",
       "      <td>50.318617</td>\n",
       "      <td>51.364858</td>\n",
       "      <td>10.846708</td>\n",
       "      <td>8.237112</td>\n",
       "      <td>20.349825</td>\n",
       "      <td>15.249968</td>\n",
       "      <td>0.385015</td>\n",
       "      <td>75.188029</td>\n",
       "      <td>0.014640</td>\n",
       "      <td>0.191125</td>\n",
       "      <td>0.007038</td>\n",
       "    </tr>\n",
       "    <tr>\n",
       "      <th>std</th>\n",
       "      <td>22100.432751</td>\n",
       "      <td>33.077927</td>\n",
       "      <td>0.835529</td>\n",
       "      <td>15.263726</td>\n",
       "      <td>51.925537</td>\n",
       "      <td>20.855419</td>\n",
       "      <td>9.769887</td>\n",
       "      <td>8.341476</td>\n",
       "      <td>8.034631</td>\n",
       "      <td>10.982958</td>\n",
       "      <td>0.486604</td>\n",
       "      <td>73.519041</td>\n",
       "      <td>0.120108</td>\n",
       "      <td>0.393194</td>\n",
       "      <td>0.083600</td>\n",
       "    </tr>\n",
       "    <tr>\n",
       "      <th>min</th>\n",
       "      <td>1.000000</td>\n",
       "      <td>0.000000</td>\n",
       "      <td>1.000000</td>\n",
       "      <td>-4.000000</td>\n",
       "      <td>0.000000</td>\n",
       "      <td>8.180000</td>\n",
       "      <td>0.000000</td>\n",
       "      <td>0.000000</td>\n",
       "      <td>0.000000</td>\n",
       "      <td>0.000000</td>\n",
       "      <td>0.000000</td>\n",
       "      <td>1.020000</td>\n",
       "      <td>0.000000</td>\n",
       "      <td>0.000000</td>\n",
       "      <td>0.000000</td>\n",
       "    </tr>\n",
       "    <tr>\n",
       "      <th>25%</th>\n",
       "      <td>24951.750000</td>\n",
       "      <td>14.000000</td>\n",
       "      <td>1.000000</td>\n",
       "      <td>28.000000</td>\n",
       "      <td>11.000000</td>\n",
       "      <td>36.360000</td>\n",
       "      <td>3.000000</td>\n",
       "      <td>0.000000</td>\n",
       "      <td>24.000000</td>\n",
       "      <td>0.000000</td>\n",
       "      <td>0.000000</td>\n",
       "      <td>36.360000</td>\n",
       "      <td>0.000000</td>\n",
       "      <td>0.000000</td>\n",
       "      <td>0.000000</td>\n",
       "    </tr>\n",
       "    <tr>\n",
       "      <th>50%</th>\n",
       "      <td>43261.000000</td>\n",
       "      <td>44.000000</td>\n",
       "      <td>1.000000</td>\n",
       "      <td>40.000000</td>\n",
       "      <td>35.000000</td>\n",
       "      <td>54.540000</td>\n",
       "      <td>8.000000</td>\n",
       "      <td>7.000000</td>\n",
       "      <td>24.000000</td>\n",
       "      <td>24.000000</td>\n",
       "      <td>0.000000</td>\n",
       "      <td>54.540000</td>\n",
       "      <td>0.000000</td>\n",
       "      <td>0.000000</td>\n",
       "      <td>0.000000</td>\n",
       "    </tr>\n",
       "    <tr>\n",
       "      <th>75%</th>\n",
       "      <td>61132.750000</td>\n",
       "      <td>77.000000</td>\n",
       "      <td>2.000000</td>\n",
       "      <td>52.000000</td>\n",
       "      <td>69.000000</td>\n",
       "      <td>72.720000</td>\n",
       "      <td>16.000000</td>\n",
       "      <td>16.000000</td>\n",
       "      <td>24.000000</td>\n",
       "      <td>24.000000</td>\n",
       "      <td>1.000000</td>\n",
       "      <td>84.530000</td>\n",
       "      <td>0.000000</td>\n",
       "      <td>0.000000</td>\n",
       "      <td>0.000000</td>\n",
       "    </tr>\n",
       "    <tr>\n",
       "      <th>max</th>\n",
       "      <td>79500.000000</td>\n",
       "      <td>120.000000</td>\n",
       "      <td>4.000000</td>\n",
       "      <td>116.000000</td>\n",
       "      <td>259.000000</td>\n",
       "      <td>234.540000</td>\n",
       "      <td>147.000000</td>\n",
       "      <td>24.000000</td>\n",
       "      <td>36.000000</td>\n",
       "      <td>36.000000</td>\n",
       "      <td>1.000000</td>\n",
       "      <td>1965.890000</td>\n",
       "      <td>1.000000</td>\n",
       "      <td>1.000000</td>\n",
       "      <td>1.000000</td>\n",
       "    </tr>\n",
       "  </tbody>\n",
       "</table>\n",
       "</div>"
      ],
      "text/plain": [
       "            CUST_ID  ACCOUNT_TENURE  ACCT_CNT_SERVICES           AGE  \\\n",
       "count  46206.000000    46206.000000       46206.000000  46130.000000   \n",
       "mean   42335.196879       45.874627           1.555707     41.411836   \n",
       "std    22100.432751       33.077927           0.835529     15.263726   \n",
       "min        1.000000        0.000000           1.000000     -4.000000   \n",
       "25%    24951.750000       14.000000           1.000000     28.000000   \n",
       "50%    43261.000000       44.000000           1.000000     40.000000   \n",
       "75%    61132.750000       77.000000           2.000000     52.000000   \n",
       "max    79500.000000      120.000000           4.000000    116.000000   \n",
       "\n",
       "       SERVICE_TENURE  PLAN_ACCESS_FEE   PLAN_TENURE  \\\n",
       "count    46206.000000     46206.000000  46206.000000   \n",
       "mean        50.318617        51.364858     10.846708   \n",
       "std         51.925537        20.855419      9.769887   \n",
       "min          0.000000         8.180000      0.000000   \n",
       "25%         11.000000        36.360000      3.000000   \n",
       "50%         35.000000        54.540000      8.000000   \n",
       "75%         69.000000        72.720000     16.000000   \n",
       "max        259.000000       234.540000    147.000000   \n",
       "\n",
       "       MONTHS_OF_CONTRACT_REMAINING  LAST_FX_CONTRACT_DURATION  \\\n",
       "count                  46206.000000               46206.000000   \n",
       "mean                       8.237112                  20.349825   \n",
       "std                        8.341476                   8.034631   \n",
       "min                        0.000000                   0.000000   \n",
       "25%                        0.000000                  24.000000   \n",
       "50%                        7.000000                  24.000000   \n",
       "75%                       16.000000                  24.000000   \n",
       "max                       24.000000                  36.000000   \n",
       "\n",
       "       PREV_CONTRACT_DURATION     CHURN_IND  MONTHLY_SPEND  \\\n",
       "count            46206.000000  46206.000000   46206.000000   \n",
       "mean                15.249968      0.385015      75.188029   \n",
       "std                 10.982958      0.486604      73.519041   \n",
       "min                  0.000000      0.000000       1.020000   \n",
       "25%                  0.000000      0.000000      36.360000   \n",
       "50%                 24.000000      0.000000      54.540000   \n",
       "75%                 24.000000      1.000000      84.530000   \n",
       "max                 36.000000      1.000000    1965.890000   \n",
       "\n",
       "       RECON_SMS_NEXT_MTH  RECON_TELE_NEXT_MTH  RECON_EMAIL_NEXT_MTH  \n",
       "count        28416.000000         28416.000000          28416.000000  \n",
       "mean             0.014640             0.191125              0.007038  \n",
       "std              0.120108             0.393194              0.083600  \n",
       "min              0.000000             0.000000              0.000000  \n",
       "25%              0.000000             0.000000              0.000000  \n",
       "50%              0.000000             0.000000              0.000000  \n",
       "75%              0.000000             0.000000              0.000000  \n",
       "max              1.000000             1.000000              1.000000  "
      ]
     },
     "execution_count": 3,
     "metadata": {},
     "output_type": "execute_result"
    }
   ],
   "source": [
    "churn.describe()"
   ]
  },
  {
   "cell_type": "code",
   "execution_count": 4,
   "metadata": {},
   "outputs": [
    {
     "data": {
      "text/plain": [
       "(46206, 21)"
      ]
     },
     "execution_count": 4,
     "metadata": {},
     "output_type": "execute_result"
    }
   ],
   "source": [
    "churn.shape"
   ]
  },
  {
   "cell_type": "code",
   "execution_count": 5,
   "metadata": {},
   "outputs": [
    {
     "data": {
      "text/plain": [
       "{0, 1}"
      ]
     },
     "execution_count": 5,
     "metadata": {},
     "output_type": "execute_result"
    }
   ],
   "source": [
    "set(churn['CHURN_IND'])"
   ]
  },
  {
   "cell_type": "code",
   "execution_count": 6,
   "metadata": {},
   "outputs": [
    {
     "data": {
      "text/plain": [
       "0    28416\n",
       "1    17790\n",
       "Name: CHURN_IND, dtype: int64"
      ]
     },
     "execution_count": 6,
     "metadata": {},
     "output_type": "execute_result"
    }
   ],
   "source": [
    "churn['CHURN_IND'].value_counts()"
   ]
  },
  {
   "cell_type": "code",
   "execution_count": 7,
   "metadata": {},
   "outputs": [
    {
     "data": {
      "text/plain": [
       "CUST_ID                             0\n",
       "ACCOUNT_TENURE                      0\n",
       "ACCT_CNT_SERVICES                   0\n",
       "AGE                                76\n",
       "CFU                                 0\n",
       "SERVICE_TENURE                      0\n",
       "PLAN_ACCESS_FEE                     0\n",
       "BYO_PLAN_STATUS                     0\n",
       "PLAN_TENURE                         0\n",
       "MONTHS_OF_CONTRACT_REMAINING        0\n",
       "LAST_FX_CONTRACT_DURATION           0\n",
       "CONTRACT_STATUS                     0\n",
       "PREV_CONTRACT_DURATION              0\n",
       "HANDSET_USED_BRAND                  0\n",
       "CHURN_IND                           0\n",
       "MONTHLY_SPEND                       0\n",
       "COUNTRY_METRO_REGION                1\n",
       "STATE                               1\n",
       "RECON_SMS_NEXT_MTH              17790\n",
       "RECON_TELE_NEXT_MTH             17790\n",
       "RECON_EMAIL_NEXT_MTH            17790\n",
       "dtype: int64"
      ]
     },
     "execution_count": 7,
     "metadata": {},
     "output_type": "execute_result"
    }
   ],
   "source": [
    "churn.isna().sum()"
   ]
  },
  {
   "cell_type": "code",
   "execution_count": 8,
   "metadata": {},
   "outputs": [],
   "source": [
    "churn.drop(['CUST_ID', 'RECON_SMS_NEXT_MTH', 'RECON_TELE_NEXT_MTH', 'RECON_EMAIL_NEXT_MTH'], axis=1, inplace=True)"
   ]
  },
  {
   "cell_type": "code",
   "execution_count": 9,
   "metadata": {},
   "outputs": [
    {
     "data": {
      "text/plain": [
       "(46129, 17)"
      ]
     },
     "execution_count": 9,
     "metadata": {},
     "output_type": "execute_result"
    }
   ],
   "source": [
    "churn.dropna(axis=0, inplace=True)\n",
    "churn.shape"
   ]
  },
  {
   "cell_type": "code",
   "execution_count": 10,
   "metadata": {},
   "outputs": [
    {
     "data": {
      "text/plain": [
       "ACCOUNT_TENURE                  0\n",
       "ACCT_CNT_SERVICES               0\n",
       "AGE                             0\n",
       "CFU                             0\n",
       "SERVICE_TENURE                  0\n",
       "PLAN_ACCESS_FEE                 0\n",
       "BYO_PLAN_STATUS                 0\n",
       "PLAN_TENURE                     0\n",
       "MONTHS_OF_CONTRACT_REMAINING    0\n",
       "LAST_FX_CONTRACT_DURATION       0\n",
       "CONTRACT_STATUS                 0\n",
       "PREV_CONTRACT_DURATION          0\n",
       "HANDSET_USED_BRAND              0\n",
       "CHURN_IND                       0\n",
       "MONTHLY_SPEND                   0\n",
       "COUNTRY_METRO_REGION            0\n",
       "STATE                           0\n",
       "dtype: int64"
      ]
     },
     "execution_count": 10,
     "metadata": {},
     "output_type": "execute_result"
    }
   ],
   "source": [
    "churn.isna().sum()"
   ]
  },
  {
   "cell_type": "code",
   "execution_count": 11,
   "metadata": {
    "scrolled": false
   },
   "outputs": [
    {
     "name": "stdout",
     "output_type": "stream",
     "text": [
      "<class 'pandas.core.frame.DataFrame'>\n",
      "Int64Index: 46129 entries, 1 to 46206\n",
      "Data columns (total 17 columns):\n",
      " #   Column                        Non-Null Count  Dtype  \n",
      "---  ------                        --------------  -----  \n",
      " 0   ACCOUNT_TENURE                46129 non-null  int64  \n",
      " 1   ACCT_CNT_SERVICES             46129 non-null  int64  \n",
      " 2   AGE                           46129 non-null  float64\n",
      " 3   CFU                           46129 non-null  object \n",
      " 4   SERVICE_TENURE                46129 non-null  int64  \n",
      " 5   PLAN_ACCESS_FEE               46129 non-null  float64\n",
      " 6   BYO_PLAN_STATUS               46129 non-null  object \n",
      " 7   PLAN_TENURE                   46129 non-null  int64  \n",
      " 8   MONTHS_OF_CONTRACT_REMAINING  46129 non-null  int64  \n",
      " 9   LAST_FX_CONTRACT_DURATION     46129 non-null  int64  \n",
      " 10  CONTRACT_STATUS               46129 non-null  object \n",
      " 11  PREV_CONTRACT_DURATION        46129 non-null  int64  \n",
      " 12  HANDSET_USED_BRAND            46129 non-null  object \n",
      " 13  CHURN_IND                     46129 non-null  int64  \n",
      " 14  MONTHLY_SPEND                 46129 non-null  float64\n",
      " 15  COUNTRY_METRO_REGION          46129 non-null  object \n",
      " 16  STATE                         46129 non-null  object \n",
      "dtypes: float64(3), int64(8), object(6)\n",
      "memory usage: 6.3+ MB\n"
     ]
    }
   ],
   "source": [
    "churn.info()"
   ]
  },
  {
   "cell_type": "code",
   "execution_count": 12,
   "metadata": {},
   "outputs": [
    {
     "name": "stdout",
     "output_type": "stream",
     "text": [
      "Number of catagorical features:  6\n",
      "Features:  ['CFU', 'BYO_PLAN_STATUS', 'CONTRACT_STATUS', 'HANDSET_USED_BRAND', 'COUNTRY_METRO_REGION', 'STATE']\n"
     ]
    }
   ],
   "source": [
    "catagorical_feat = churn.select_dtypes(include=['object']).columns.tolist()\n",
    "print('Number of catagorical features: ', len(catagorical_feat))\n",
    "print('Features: ' ,catagorical_feat)"
   ]
  },
  {
   "cell_type": "code",
   "execution_count": 13,
   "metadata": {},
   "outputs": [
    {
     "name": "stdout",
     "output_type": "stream",
     "text": [
      "Cardinality of CFU are: 2\n",
      "Cardinality of BYO_PLAN_STATUS are: 2\n",
      "Cardinality of CONTRACT_STATUS are: 3\n",
      "Cardinality of HANDSET_USED_BRAND are: 6\n",
      "Cardinality of COUNTRY_METRO_REGION are: 2\n",
      "Cardinality of STATE are: 8\n"
     ]
    }
   ],
   "source": [
    "for feat in catagorical_feat:\n",
    "    value = len(churn[feat].unique())\n",
    "    print('Cardinality of {} are: {}'.format(feat, value))"
   ]
  },
  {
   "cell_type": "code",
   "execution_count": 14,
   "metadata": {},
   "outputs": [],
   "source": [
    "def encodeData(feat):\n",
    "        map_dict = {}\n",
    "        values = list(churn[feat].unique())\n",
    "        for i in range(len(values)):\n",
    "            map_dict[values[i]] = i\n",
    "        return map_dict\n",
    "\n",
    "for feat in catagorical_feat:\n",
    "    churn[feat].replace(encodeData(feat), inplace=True)"
   ]
  },
  {
   "cell_type": "code",
   "execution_count": 15,
   "metadata": {},
   "outputs": [
    {
     "name": "stdout",
     "output_type": "stream",
     "text": [
      "Cardinality of CFU are: 2\n",
      "Cardinality of BYO_PLAN_STATUS are: 2\n",
      "Cardinality of CONTRACT_STATUS are: 3\n",
      "Cardinality of HANDSET_USED_BRAND are: 6\n",
      "Cardinality of COUNTRY_METRO_REGION are: 2\n",
      "Cardinality of STATE are: 8\n"
     ]
    }
   ],
   "source": [
    "for feat in catagorical_feat:\n",
    "    value = len(churn[feat].unique())\n",
    "    print('Cardinality of {} are: {}'.format(feat, value))"
   ]
  },
  {
   "cell_type": "code",
   "execution_count": 16,
   "metadata": {},
   "outputs": [
    {
     "name": "stdout",
     "output_type": "stream",
     "text": [
      "<class 'pandas.core.frame.DataFrame'>\n",
      "Int64Index: 46129 entries, 1 to 46206\n",
      "Data columns (total 17 columns):\n",
      " #   Column                        Non-Null Count  Dtype  \n",
      "---  ------                        --------------  -----  \n",
      " 0   ACCOUNT_TENURE                46129 non-null  int64  \n",
      " 1   ACCT_CNT_SERVICES             46129 non-null  int64  \n",
      " 2   AGE                           46129 non-null  float64\n",
      " 3   CFU                           46129 non-null  int64  \n",
      " 4   SERVICE_TENURE                46129 non-null  int64  \n",
      " 5   PLAN_ACCESS_FEE               46129 non-null  float64\n",
      " 6   BYO_PLAN_STATUS               46129 non-null  int64  \n",
      " 7   PLAN_TENURE                   46129 non-null  int64  \n",
      " 8   MONTHS_OF_CONTRACT_REMAINING  46129 non-null  int64  \n",
      " 9   LAST_FX_CONTRACT_DURATION     46129 non-null  int64  \n",
      " 10  CONTRACT_STATUS               46129 non-null  int64  \n",
      " 11  PREV_CONTRACT_DURATION        46129 non-null  int64  \n",
      " 12  HANDSET_USED_BRAND            46129 non-null  int64  \n",
      " 13  CHURN_IND                     46129 non-null  int64  \n",
      " 14  MONTHLY_SPEND                 46129 non-null  float64\n",
      " 15  COUNTRY_METRO_REGION          46129 non-null  int64  \n",
      " 16  STATE                         46129 non-null  int64  \n",
      "dtypes: float64(3), int64(14)\n",
      "memory usage: 6.3 MB\n"
     ]
    }
   ],
   "source": [
    "churn.info()"
   ]
  },
  {
   "cell_type": "code",
   "execution_count": 17,
   "metadata": {
    "scrolled": true
   },
   "outputs": [
    {
     "data": {
      "text/html": [
       "<div>\n",
       "<style scoped>\n",
       "    .dataframe tbody tr th:only-of-type {\n",
       "        vertical-align: middle;\n",
       "    }\n",
       "\n",
       "    .dataframe tbody tr th {\n",
       "        vertical-align: top;\n",
       "    }\n",
       "\n",
       "    .dataframe thead th {\n",
       "        text-align: right;\n",
       "    }\n",
       "</style>\n",
       "<table border=\"1\" class=\"dataframe\">\n",
       "  <thead>\n",
       "    <tr style=\"text-align: right;\">\n",
       "      <th></th>\n",
       "      <th>ACCOUNT_TENURE</th>\n",
       "      <th>ACCT_CNT_SERVICES</th>\n",
       "      <th>AGE</th>\n",
       "      <th>CFU</th>\n",
       "      <th>SERVICE_TENURE</th>\n",
       "      <th>PLAN_ACCESS_FEE</th>\n",
       "      <th>BYO_PLAN_STATUS</th>\n",
       "      <th>PLAN_TENURE</th>\n",
       "      <th>MONTHS_OF_CONTRACT_REMAINING</th>\n",
       "      <th>LAST_FX_CONTRACT_DURATION</th>\n",
       "      <th>CONTRACT_STATUS</th>\n",
       "      <th>PREV_CONTRACT_DURATION</th>\n",
       "      <th>HANDSET_USED_BRAND</th>\n",
       "      <th>CHURN_IND</th>\n",
       "      <th>MONTHLY_SPEND</th>\n",
       "      <th>COUNTRY_METRO_REGION</th>\n",
       "      <th>STATE</th>\n",
       "    </tr>\n",
       "    <tr>\n",
       "      <th>INDEX</th>\n",
       "      <th></th>\n",
       "      <th></th>\n",
       "      <th></th>\n",
       "      <th></th>\n",
       "      <th></th>\n",
       "      <th></th>\n",
       "      <th></th>\n",
       "      <th></th>\n",
       "      <th></th>\n",
       "      <th></th>\n",
       "      <th></th>\n",
       "      <th></th>\n",
       "      <th></th>\n",
       "      <th></th>\n",
       "      <th></th>\n",
       "      <th></th>\n",
       "      <th></th>\n",
       "    </tr>\n",
       "  </thead>\n",
       "  <tbody>\n",
       "    <tr>\n",
       "      <th>1</th>\n",
       "      <td>46</td>\n",
       "      <td>1</td>\n",
       "      <td>30.0</td>\n",
       "      <td>0</td>\n",
       "      <td>46</td>\n",
       "      <td>54.54</td>\n",
       "      <td>0</td>\n",
       "      <td>15</td>\n",
       "      <td>0</td>\n",
       "      <td>24</td>\n",
       "      <td>0</td>\n",
       "      <td>24</td>\n",
       "      <td>0</td>\n",
       "      <td>1</td>\n",
       "      <td>61.40</td>\n",
       "      <td>0</td>\n",
       "      <td>0</td>\n",
       "    </tr>\n",
       "    <tr>\n",
       "      <th>2</th>\n",
       "      <td>60</td>\n",
       "      <td>3</td>\n",
       "      <td>55.0</td>\n",
       "      <td>0</td>\n",
       "      <td>59</td>\n",
       "      <td>54.54</td>\n",
       "      <td>0</td>\n",
       "      <td>5</td>\n",
       "      <td>0</td>\n",
       "      <td>24</td>\n",
       "      <td>0</td>\n",
       "      <td>24</td>\n",
       "      <td>1</td>\n",
       "      <td>1</td>\n",
       "      <td>54.54</td>\n",
       "      <td>1</td>\n",
       "      <td>1</td>\n",
       "    </tr>\n",
       "    <tr>\n",
       "      <th>3</th>\n",
       "      <td>65</td>\n",
       "      <td>1</td>\n",
       "      <td>29.0</td>\n",
       "      <td>0</td>\n",
       "      <td>65</td>\n",
       "      <td>40.90</td>\n",
       "      <td>1</td>\n",
       "      <td>15</td>\n",
       "      <td>0</td>\n",
       "      <td>12</td>\n",
       "      <td>0</td>\n",
       "      <td>12</td>\n",
       "      <td>1</td>\n",
       "      <td>1</td>\n",
       "      <td>2.50</td>\n",
       "      <td>0</td>\n",
       "      <td>0</td>\n",
       "    </tr>\n",
       "    <tr>\n",
       "      <th>4</th>\n",
       "      <td>31</td>\n",
       "      <td>1</td>\n",
       "      <td>51.0</td>\n",
       "      <td>0</td>\n",
       "      <td>31</td>\n",
       "      <td>31.81</td>\n",
       "      <td>0</td>\n",
       "      <td>31</td>\n",
       "      <td>0</td>\n",
       "      <td>24</td>\n",
       "      <td>0</td>\n",
       "      <td>24</td>\n",
       "      <td>1</td>\n",
       "      <td>1</td>\n",
       "      <td>6.48</td>\n",
       "      <td>0</td>\n",
       "      <td>2</td>\n",
       "    </tr>\n",
       "    <tr>\n",
       "      <th>5</th>\n",
       "      <td>95</td>\n",
       "      <td>1</td>\n",
       "      <td>31.0</td>\n",
       "      <td>0</td>\n",
       "      <td>95</td>\n",
       "      <td>54.54</td>\n",
       "      <td>0</td>\n",
       "      <td>0</td>\n",
       "      <td>0</td>\n",
       "      <td>24</td>\n",
       "      <td>0</td>\n",
       "      <td>24</td>\n",
       "      <td>1</td>\n",
       "      <td>1</td>\n",
       "      <td>100.22</td>\n",
       "      <td>1</td>\n",
       "      <td>1</td>\n",
       "    </tr>\n",
       "  </tbody>\n",
       "</table>\n",
       "</div>"
      ],
      "text/plain": [
       "       ACCOUNT_TENURE  ACCT_CNT_SERVICES   AGE  CFU  SERVICE_TENURE  \\\n",
       "INDEX                                                                 \n",
       "1                  46                  1  30.0    0              46   \n",
       "2                  60                  3  55.0    0              59   \n",
       "3                  65                  1  29.0    0              65   \n",
       "4                  31                  1  51.0    0              31   \n",
       "5                  95                  1  31.0    0              95   \n",
       "\n",
       "       PLAN_ACCESS_FEE  BYO_PLAN_STATUS  PLAN_TENURE  \\\n",
       "INDEX                                                  \n",
       "1                54.54                0           15   \n",
       "2                54.54                0            5   \n",
       "3                40.90                1           15   \n",
       "4                31.81                0           31   \n",
       "5                54.54                0            0   \n",
       "\n",
       "       MONTHS_OF_CONTRACT_REMAINING  LAST_FX_CONTRACT_DURATION  \\\n",
       "INDEX                                                            \n",
       "1                                 0                         24   \n",
       "2                                 0                         24   \n",
       "3                                 0                         12   \n",
       "4                                 0                         24   \n",
       "5                                 0                         24   \n",
       "\n",
       "       CONTRACT_STATUS  PREV_CONTRACT_DURATION  HANDSET_USED_BRAND  CHURN_IND  \\\n",
       "INDEX                                                                           \n",
       "1                    0                      24                   0          1   \n",
       "2                    0                      24                   1          1   \n",
       "3                    0                      12                   1          1   \n",
       "4                    0                      24                   1          1   \n",
       "5                    0                      24                   1          1   \n",
       "\n",
       "       MONTHLY_SPEND  COUNTRY_METRO_REGION  STATE  \n",
       "INDEX                                              \n",
       "1              61.40                     0      0  \n",
       "2              54.54                     1      1  \n",
       "3               2.50                     0      0  \n",
       "4               6.48                     0      2  \n",
       "5             100.22                     1      1  "
      ]
     },
     "execution_count": 17,
     "metadata": {},
     "output_type": "execute_result"
    }
   ],
   "source": [
    "churn.head()"
   ]
  },
  {
   "cell_type": "code",
   "execution_count": 18,
   "metadata": {
    "scrolled": false
   },
   "outputs": [
    {
     "data": {
      "image/png": "[encoded data removed]",
      "text/plain": [
       "<Figure size 1008x504 with 1 Axes>"
      ]
     },
     "metadata": {
      "needs_background": "light"
     },
     "output_type": "display_data"
    }
   ],
   "source": [
    "plt.figure(figsize=(14, 7))\n",
    "ax = sns.boxplot(data=churn)\n",
    "temp = ax.set_xticklabels(ax.get_xticklabels(), rotation=40, ha=\"right\")"
   ]
  },
  {
   "cell_type": "code",
   "execution_count": 19,
   "metadata": {},
   "outputs": [
    {
     "data": {
      "image/png": "[encoded data removed]",
      "text/plain": [
       "<Figure size 1008x504 with 1 Axes>"
      ]
     },
     "metadata": {
      "needs_background": "light"
     },
     "output_type": "display_data"
    }
   ],
   "source": [
    "#scaled data frame boxplot \n",
    "plt.figure(figsize = (14, 7))\n",
    "df_scaled = MinMaxScaler()\n",
    "churn = pd.DataFrame(df_scaled.fit_transform(churn), index=churn.index, columns=churn.columns)\n",
    "ax = sns.boxplot(data = churn)\n",
    "temp = ax.set_xticklabels(ax.get_xticklabels(), rotation=40, ha=\"right\")"
   ]
  },
  {
   "cell_type": "code",
   "execution_count": 20,
   "metadata": {},
   "outputs": [],
   "source": [
    "all_X = churn.drop(['CHURN_IND'], axis=1)\n",
    "all_y = churn['CHURN_IND']\n",
    "train, test = train_test_split(churn, test_size=0.2, random_state=42)\n",
    "X_train = train.drop(['CHURN_IND'], axis=1)\n",
    "y_train = train['CHURN_IND']\n",
    "X_test = test.drop(['CHURN_IND'], axis=1)\n",
    "y_test = test['CHURN_IND']"
   ]
  },
  {
   "cell_type": "code",
   "execution_count": 21,
   "metadata": {},
   "outputs": [
    {
     "name": "stdout",
     "output_type": "stream",
     "text": [
      "(36903, 17)\n",
      "(9226, 17)\n"
     ]
    }
   ],
   "source": [
    "print(train.shape)\n",
    "print(test.shape)"
   ]
  },
  {
   "cell_type": "code",
   "execution_count": 22,
   "metadata": {},
   "outputs": [],
   "source": [
    "train_acc = []\n",
    "test_acc = []\n",
    "\n",
    "for i in range(X_train.shape[1]):\n",
    "    lr = LogisticRegression(max_iter=1000)\n",
    "    rfe = RFE(estimator=lr, n_features_to_select=i+1, step=1)\n",
    "    rfe.fit(X_train, y_train)\n",
    "    train_preds = rfe.predict(X_train)\n",
    "    test_preds = rfe.predict(X_test)\n",
    "    train_acc.append(accuracy_score(y_train, train_preds))\n",
    "    test_acc.append(accuracy_score(y_test, test_preds))"
   ]
  },
  {
   "cell_type": "code",
   "execution_count": 23,
   "metadata": {},
   "outputs": [
    {
     "data": {
      "text/plain": [
       "Text(0.5, 1.0, 'Accuracy at Each Number of Features using RFE')"
      ]
     },
     "execution_count": 23,
     "metadata": {},
     "output_type": "execute_result"
    },
    {
     "data": {
      "image/png": "[encoded data removed]",
      "text/plain": [
       "<Figure size 576x432 with 1 Axes>"
      ]
     },
     "metadata": {
      "needs_background": "light"
     },
     "output_type": "display_data"
    }
   ],
   "source": [
    "plt.figure(figsize=(8,6))\n",
    "plt.plot(range(1, X_train.shape[1] + 1), train_acc)\n",
    "plt.plot(range(1, X_train.shape[1] + 1), test_acc)\n",
    "plt.xlabel(\"Number of Features\")\n",
    "plt.ylabel(\"Accuracy Score\")\n",
    "plt.title(\"Accuracy at Each Number of Features using RFE\")"
   ]
  },
  {
   "cell_type": "code",
   "execution_count": 24,
   "metadata": {},
   "outputs": [
    {
     "data": {
      "text/plain": [
       "RFE(estimator=LogisticRegression(max_iter=1000), n_features_to_select=12)"
      ]
     },
     "execution_count": 24,
     "metadata": {},
     "output_type": "execute_result"
    }
   ],
   "source": [
    "lr = LogisticRegression(max_iter=1000)\n",
    "rfe = RFE(estimator=lr, n_features_to_select=12, step=1)\n",
    "rfe.fit(X_train, y_train)"
   ]
  },
  {
   "cell_type": "code",
   "execution_count": 25,
   "metadata": {},
   "outputs": [
    {
     "name": "stdout",
     "output_type": "stream",
     "text": [
      "Train accuracy:\n",
      "0.7162290328699563\n",
      "Test accuracy:\n",
      "0.7083243008887925\n"
     ]
    }
   ],
   "source": [
    "train_preds = rfe.predict(X_train)\n",
    "test_preds = rfe.predict(X_test)\n",
    "print(\"Train accuracy:\")\n",
    "print(accuracy_score(y_train, train_preds))\n",
    "print(\"Test accuracy:\")\n",
    "print(accuracy_score(y_test, test_preds))"
   ]
  },
  {
   "cell_type": "code",
   "execution_count": 26,
   "metadata": {},
   "outputs": [
    {
     "data": {
      "text/plain": [
       "Index(['ACCOUNT_TENURE', 'AGE', 'SERVICE_TENURE', 'PLAN_ACCESS_FEE',\n",
       "       'BYO_PLAN_STATUS', 'PLAN_TENURE', 'MONTHS_OF_CONTRACT_REMAINING',\n",
       "       'LAST_FX_CONTRACT_DURATION', 'CONTRACT_STATUS',\n",
       "       'PREV_CONTRACT_DURATION', 'MONTHLY_SPEND', 'COUNTRY_METRO_REGION'],\n",
       "      dtype='object')"
      ]
     },
     "execution_count": 26,
     "metadata": {},
     "output_type": "execute_result"
    }
   ],
   "source": [
    "X_train.columns[rfe.support_]"
   ]
  },
  {
   "cell_type": "code",
   "execution_count": 27,
   "metadata": {},
   "outputs": [
    {
     "name": "stdout",
     "output_type": "stream",
     "text": [
      "Train Confusion Matrix:\n",
      "[[18864  3825]\n",
      " [ 6647  7567]]\n",
      "Test Confusion Matrix:\n",
      "[[4680  997]\n",
      " [1694 1855]]\n"
     ]
    }
   ],
   "source": [
    "print(\"Train Confusion Matrix:\")\n",
    "print(confusion_matrix(y_train, train_preds))\n",
    "print(\"Test Confusion Matrix:\")\n",
    "print(confusion_matrix(y_test, test_preds))"
   ]
  },
  {
   "cell_type": "code",
   "execution_count": null,
   "metadata": {},
   "outputs": [],
   "source": []
  }
 ],
 "metadata": {
  "kernelspec": {
   "display_name": "Python 3",
   "language": "python",
   "name": "python3"
  },
  "language_info": {
   "codemirror_mode": {
    "name": "ipython",
    "version": 3
   },
   "file_extension": ".py",
   "mimetype": "text/x-python",
   "name": "python",
   "nbconvert_exporter": "python",
   "pygments_lexer": "ipython3",
   "version": "3.8.8"
  }
 },
 "nbformat": 4,
 "nbformat_minor": 4
}
